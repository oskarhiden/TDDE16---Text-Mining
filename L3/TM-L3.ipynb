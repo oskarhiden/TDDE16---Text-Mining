{
 "cells": [
  {
   "cell_type": "markdown",
   "metadata": {},
   "source": [
    "# L3: Text clustering and topic modelling"
   ]
  },
  {
   "cell_type": "markdown",
   "metadata": {},
   "source": [
    "Text clustering groups documents in such a way that documents within a group are more &lsquo;similar&rsquo; to other documents in the cluster than to documents not in the cluster. The exact definition of what &lsquo;similar&rsquo; means in this context varies across applications and clustering algorithms.\n",
    "\n",
    "In this lab you will experiment with both hard and soft clustering techniques. More specifically, in the first part you will be using the $k$-means algorithm, and in the second part you will be using a topic model based on the Latent Dirichlet Allocation (LDA)."
   ]
  },
  {
   "cell_type": "markdown",
   "metadata": {},
   "source": [
    "## Hard clustering data set"
   ]
  },
  {
   "cell_type": "markdown",
   "metadata": {},
   "source": [
    "The raw data for the hard clustering part of this lab is a collection of product reviews. We have preprocessed the data by tokenization and lowercasing."
   ]
  },
  {
   "cell_type": "code",
   "execution_count": 1,
   "metadata": {},
   "outputs": [],
   "source": [
    "import pandas as pd\n",
    "import bz2\n",
    "\n",
    "with bz2.open('reviews.json.bz2') as source:\n",
    "    df = pd.read_json(source)"
   ]
  },
  {
   "cell_type": "markdown",
   "metadata": {},
   "source": [
    "When you inspect the data frame, you can see that there are three labelled columns: `category` (the product category), `sentiment` (whether the product review was classified as &lsquo;positive&rsquo; or &lsquo;negative&rsquo; towards the product), and `text` (the space-separated text of the review)."
   ]
  },
  {
   "cell_type": "code",
   "execution_count": 2,
   "metadata": {},
   "outputs": [
    {
     "data": {
      "text/html": [
       "<div>\n",
       "<style scoped>\n",
       "    .dataframe tbody tr th:only-of-type {\n",
       "        vertical-align: middle;\n",
       "    }\n",
       "\n",
       "    .dataframe tbody tr th {\n",
       "        vertical-align: top;\n",
       "    }\n",
       "\n",
       "    .dataframe thead th {\n",
       "        text-align: right;\n",
       "    }\n",
       "</style>\n",
       "<table border=\"1\" class=\"dataframe\">\n",
       "  <thead>\n",
       "    <tr style=\"text-align: right;\">\n",
       "      <th></th>\n",
       "      <th>category</th>\n",
       "      <th>sentiment</th>\n",
       "      <th>text</th>\n",
       "    </tr>\n",
       "  </thead>\n",
       "  <tbody>\n",
       "    <tr>\n",
       "      <th>0</th>\n",
       "      <td>music</td>\n",
       "      <td>neg</td>\n",
       "      <td>i bought this album because i loved the title ...</td>\n",
       "    </tr>\n",
       "    <tr>\n",
       "      <th>1</th>\n",
       "      <td>music</td>\n",
       "      <td>neg</td>\n",
       "      <td>i was misled and thought i was buying the enti...</td>\n",
       "    </tr>\n",
       "    <tr>\n",
       "      <th>2</th>\n",
       "      <td>books</td>\n",
       "      <td>neg</td>\n",
       "      <td>i have introduced many of my ell , high school...</td>\n",
       "    </tr>\n",
       "    <tr>\n",
       "      <th>3</th>\n",
       "      <td>books</td>\n",
       "      <td>pos</td>\n",
       "      <td>anything you purchase in the left behind serie...</td>\n",
       "    </tr>\n",
       "    <tr>\n",
       "      <th>4</th>\n",
       "      <td>dvd</td>\n",
       "      <td>pos</td>\n",
       "      <td>i loved these movies , and i cant wiat for the...</td>\n",
       "    </tr>\n",
       "  </tbody>\n",
       "</table>\n",
       "</div>"
      ],
      "text/plain": [
       "  category sentiment                                               text\n",
       "0    music       neg  i bought this album because i loved the title ...\n",
       "1    music       neg  i was misled and thought i was buying the enti...\n",
       "2    books       neg  i have introduced many of my ell , high school...\n",
       "3    books       pos  anything you purchase in the left behind serie...\n",
       "4      dvd       pos  i loved these movies , and i cant wiat for the..."
      ]
     },
     "execution_count": 2,
     "metadata": {},
     "output_type": "execute_result"
    }
   ],
   "source": [
    "df.head()"
   ]
  },
  {
   "cell_type": "markdown",
   "metadata": {},
   "source": [
    "## Problem 1: K-means clustering"
   ]
  },
  {
   "cell_type": "markdown",
   "metadata": {},
   "source": [
    "Your first task is to cluster the product review data using a tf–idf vectorizer and a $k$-means clusterer."
   ]
  },
  {
   "cell_type": "markdown",
   "metadata": {},
   "source": [
    "Start by doing the vectorization. In connection with vectorization, you should also filter out standard English stop words. While you could use [spaCy](https://spacy.io/) for this task, here it suffices to use the word list implemented in [TfidfVectorizer](https://scikit-learn.org/stable/modules/generated/sklearn.feature_extraction.text.TfidfVectorizer.html)."
   ]
  },
  {
   "cell_type": "code",
   "execution_count": null,
   "metadata": {},
   "outputs": [],
   "source": [
    "from sklearn.feature_extraction.text import TfidfVectorizer"
   ]
  },
  {
   "cell_type": "code",
   "execution_count": 46,
   "metadata": {},
   "outputs": [],
   "source": [
    "# TODO: Enter code here to vectorize the data and store it in a variable `reviews`\n",
    "vec = TfidfVectorizer(stop_words = 'english')\n",
    "\n",
    "reviews = vec.fit_transform(df['text'])"
   ]
  },
  {
   "cell_type": "markdown",
   "metadata": {},
   "source": [
    "Test your vectorization by running the following code cell:"
   ]
  },
  {
   "cell_type": "code",
   "execution_count": 38,
   "metadata": {},
   "outputs": [
    {
     "data": {
      "text/plain": [
       "(11914, 46619)"
      ]
     },
     "execution_count": 38,
     "metadata": {},
     "output_type": "execute_result"
    }
   ],
   "source": [
    "reviews.shape"
   ]
  },
  {
   "cell_type": "markdown",
   "metadata": {},
   "source": [
    "If you used the English stop word list from scikit-learn, then the resulting vocabulary should have 46,619 entries."
   ]
  },
  {
   "cell_type": "markdown",
   "metadata": {},
   "source": [
    "Next, cluster the vectorized data. Before doing so, you should read the documentation of the [KMeans](https://scikit-learn.org/stable/modules/generated/sklearn.cluster.KMeans.html) class, which is scikit-learn&rsquo;s implementation of the $k$-means algorithm. As you can see, this class has several parameters that you can tweak. For now, the only parameter that you will have to set is the number of clusters. We recommend that you choose $k=3$.\n",
    "\n",
    "**Tip:** Training $k$-means models will take some time. To speed things up, you can use the `n_init` parameter to control the number of times that the clustering is re-computed with different initial values. The default value for this parameter is 10; here and in the rest of this lab, you may want to set this to a lower value."
   ]
  },
  {
   "cell_type": "code",
   "execution_count": 39,
   "metadata": {},
   "outputs": [],
   "source": [
    "from sklearn.cluster import KMeans\n",
    "import pandas as pd\n",
    "import numpy as np"
   ]
  },
  {
   "cell_type": "code",
   "execution_count": 40,
   "metadata": {},
   "outputs": [
    {
     "data": {
      "text/plain": [
       "KMeans(n_clusters=3, n_init=2)"
      ]
     },
     "execution_count": 40,
     "metadata": {},
     "output_type": "execute_result"
    }
   ],
   "source": [
    "# TODO: Enter code here to cluster the vectorized data\n",
    "kmeans = KMeans(n_clusters=3, n_init=2)\n",
    "kmeans.fit(reviews)"
   ]
  },
  {
   "cell_type": "markdown",
   "metadata": {},
   "source": [
    "To sanity-check your clustering, create a bar plot with the number of documents per cluster."
   ]
  },
  {
   "cell_type": "code",
   "execution_count": 41,
   "metadata": {},
   "outputs": [
    {
     "data": {
      "text/plain": [
       "<matplotlib.axes._subplots.AxesSubplot at 0x7fec75f55f40>"
      ]
     },
     "execution_count": 41,
     "metadata": {},
     "output_type": "execute_result"
    },
    {
     "data": {
      "image/png": "[encoded data removed]",
      "text/plain": [
       "<Figure size 432x288 with 1 Axes>"
      ]
     },
     "metadata": {
      "needs_background": "light"
     },
     "output_type": "display_data"
    }
   ],
   "source": [
    "# TODO: Enter code here to produce a bar plot of the cluster size\n",
    "pd.DataFrame({'rev': kmeans.labels_})['rev'].value_counts().plot(kind='bar')"
   ]
  },
  {
   "cell_type": "markdown",
   "metadata": {},
   "source": [
    "Note that sizes may vary considerable between clusters and among different random seeds."
   ]
  },
  {
   "cell_type": "markdown",
   "metadata": {},
   "source": [
    "## Problem 2: Summarize clusters"
   ]
  },
  {
   "cell_type": "markdown",
   "metadata": {},
   "source": [
    "Once you have a clustering, you can try to see whether it is meaningful. One useful technique in that context is to generate a **summary** for each cluster by extracting the $n$ highest-weighted terms from the centroid of each cluster. Your next task is to implement this approach.\n",
    "\n",
    "**Hint:** You will need to construct an &lsquo;inverted vocabulary&rsquo; that allows you to map from the index of a term back to the original term."
   ]
  },
  {
   "cell_type": "code",
   "execution_count": 72,
   "metadata": {},
   "outputs": [],
   "source": [
    "# TODO: Enter code here to compute the cluster summaries and print them\n",
    "words = vec.get_feature_names()\n",
    "\n",
    "pos = []\n",
    "# Sort args in acending. First[]: get 10 highest. Last []: [Start:Stop:Step]\n",
    "for i in range(3):\n",
    "    pos.append(kmeans.cluster_centers_[i].argsort()[-10:][::-1])\n",
    "\n",
    "Summaries = []\n",
    "\n",
    "for i in range(3):\n",
    "    sum = []\n",
    "    for j in range(10):\n",
    "        sum.append(words[pos[i][j]])\n",
    "        \n",
    "    Summaries.append(sum)\n",
    "        \n",
    "# ------Or------\n",
    "#df_words = pd.DataFrame(words)\n",
    "#df_sum = df_words.iloc[pos]\n",
    "# ------------"
   ]
  },
  {
   "cell_type": "code",
   "execution_count": 69,
   "metadata": {},
   "outputs": [
    {
     "data": {
      "text/plain": [
       "[['product',\n",
       "  'movie',\n",
       "  'use',\n",
       "  'great',\n",
       "  'just',\n",
       "  'like',\n",
       "  'good',\n",
       "  'does',\n",
       "  'time',\n",
       "  'did'],\n",
       " ['book',\n",
       "  'album',\n",
       "  'cd',\n",
       "  'quot',\n",
       "  'music',\n",
       "  'songs',\n",
       "  'like',\n",
       "  'read',\n",
       "  'song',\n",
       "  'just'],\n",
       " ['camera',\n",
       "  'lens',\n",
       "  'pictures',\n",
       "  'canon',\n",
       "  'digital',\n",
       "  'use',\n",
       "  'flash',\n",
       "  'battery',\n",
       "  'quality',\n",
       "  'great']]"
      ]
     },
     "execution_count": 69,
     "metadata": {},
     "output_type": "execute_result"
    }
   ],
   "source": [
    "Summaries"
   ]
  },
  {
   "cell_type": "markdown",
   "metadata": {},
   "source": [
    "Once you have computed the cluster summaries, discuss their quality. Is it clear what the reviews in a given cluster are about? Which clusters are clearest? Which are less clear? Do the cluster summaries contain any unexpected terms? What happens if you re-cluster with, say, $k=6$?"
   ]
  },
  {
   "cell_type": "markdown",
   "metadata": {},
   "source": [
    "*TODO: Insert your analysis of the clusters here*\n",
    "\n",
    "Two of the clusters seem to have a specific topic, photografy and music. The third cluster is not as clear. it also contain sumarizing words as \"great\", \"good\" and \"did. Which is unexpected since it is quite common words."
   ]
  },
  {
   "cell_type": "code",
   "execution_count": 76,
   "metadata": {},
   "outputs": [
    {
     "data": {
      "text/html": [
       "<div>\n",
       "<style scoped>\n",
       "    .dataframe tbody tr th:only-of-type {\n",
       "        vertical-align: middle;\n",
       "    }\n",
       "\n",
       "    .dataframe tbody tr th {\n",
       "        vertical-align: top;\n",
       "    }\n",
       "\n",
       "    .dataframe thead th {\n",
       "        text-align: right;\n",
       "    }\n",
       "</style>\n",
       "<table border=\"1\" class=\"dataframe\">\n",
       "  <thead>\n",
       "    <tr style=\"text-align: right;\">\n",
       "      <th></th>\n",
       "      <th>0</th>\n",
       "      <th>1</th>\n",
       "      <th>2</th>\n",
       "      <th>3</th>\n",
       "      <th>4</th>\n",
       "      <th>5</th>\n",
       "      <th>6</th>\n",
       "      <th>7</th>\n",
       "      <th>8</th>\n",
       "      <th>9</th>\n",
       "    </tr>\n",
       "  </thead>\n",
       "  <tbody>\n",
       "    <tr>\n",
       "      <th>0</th>\n",
       "      <td>quot</td>\n",
       "      <td>cd</td>\n",
       "      <td>book</td>\n",
       "      <td>album</td>\n",
       "      <td>music</td>\n",
       "      <td>just</td>\n",
       "      <td>like</td>\n",
       "      <td>song</td>\n",
       "      <td>great</td>\n",
       "      <td>best</td>\n",
       "    </tr>\n",
       "    <tr>\n",
       "      <th>1</th>\n",
       "      <td>album</td>\n",
       "      <td>cd</td>\n",
       "      <td>music</td>\n",
       "      <td>like</td>\n",
       "      <td>songs</td>\n",
       "      <td>just</td>\n",
       "      <td>great</td>\n",
       "      <td>film</td>\n",
       "      <td>song</td>\n",
       "      <td>good</td>\n",
       "    </tr>\n",
       "    <tr>\n",
       "      <th>2</th>\n",
       "      <td>product</td>\n",
       "      <td>use</td>\n",
       "      <td>software</td>\n",
       "      <td>does</td>\n",
       "      <td>program</td>\n",
       "      <td>used</td>\n",
       "      <td>great</td>\n",
       "      <td>easy</td>\n",
       "      <td>work</td>\n",
       "      <td>hair</td>\n",
       "    </tr>\n",
       "    <tr>\n",
       "      <th>3</th>\n",
       "      <td>book</td>\n",
       "      <td>read</td>\n",
       "      <td>books</td>\n",
       "      <td>author</td>\n",
       "      <td>reading</td>\n",
       "      <td>story</td>\n",
       "      <td>like</td>\n",
       "      <td>just</td>\n",
       "      <td>written</td>\n",
       "      <td>good</td>\n",
       "    </tr>\n",
       "    <tr>\n",
       "      <th>4</th>\n",
       "      <td>camera</td>\n",
       "      <td>lens</td>\n",
       "      <td>pictures</td>\n",
       "      <td>canon</td>\n",
       "      <td>digital</td>\n",
       "      <td>use</td>\n",
       "      <td>flash</td>\n",
       "      <td>battery</td>\n",
       "      <td>quality</td>\n",
       "      <td>great</td>\n",
       "    </tr>\n",
       "    <tr>\n",
       "      <th>5</th>\n",
       "      <td>movie</td>\n",
       "      <td>film</td>\n",
       "      <td>movies</td>\n",
       "      <td>watch</td>\n",
       "      <td>good</td>\n",
       "      <td>like</td>\n",
       "      <td>just</td>\n",
       "      <td>great</td>\n",
       "      <td>story</td>\n",
       "      <td>acting</td>\n",
       "    </tr>\n",
       "  </tbody>\n",
       "</table>\n",
       "</div>"
      ],
      "text/plain": [
       "         0     1         2       3        4      5      6        7        8  \\\n",
       "0     quot    cd      book   album    music   just   like     song    great   \n",
       "1    album    cd     music    like    songs   just  great     film     song   \n",
       "2  product   use  software    does  program   used  great     easy     work   \n",
       "3     book  read     books  author  reading  story   like     just  written   \n",
       "4   camera  lens  pictures   canon  digital    use  flash  battery  quality   \n",
       "5    movie  film    movies   watch     good   like   just    great    story   \n",
       "\n",
       "        9  \n",
       "0    best  \n",
       "1    good  \n",
       "2    hair  \n",
       "3    good  \n",
       "4   great  \n",
       "5  acting  "
      ]
     },
     "execution_count": 76,
     "metadata": {},
     "output_type": "execute_result"
    }
   ],
   "source": [
    "# re-cluster with k = 6\n",
    "k = 6\n",
    "kmeans = KMeans(n_clusters=k, n_init=2)\n",
    "kmeans.fit(reviews)\n",
    "\n",
    "pos = []\n",
    "# Sort args in acending. First[]: get 10 highest. Last []: [Start:Stop:Step]\n",
    "for i in range(k):\n",
    "    pos.append(kmeans.cluster_centers_[i].argsort()[-10:][::-1])\n",
    "\n",
    "Summaries = []\n",
    "\n",
    "for i in range(k):\n",
    "    sum = []\n",
    "    for j in range(10):\n",
    "        sum.append(words[pos[i][j]])\n",
    "        \n",
    "    Summaries.append(sum)\n",
    "pd.DataFrame(Summaries)"
   ]
  },
  {
   "cell_type": "markdown",
   "metadata": {},
   "source": [
    "Now with 6 clusters we cen se some more relevant topics, regarding \"Books\" or \"computer software\". Still it seem as we get one cluster that is a bit more undefined."
   ]
  },
  {
   "cell_type": "markdown",
   "metadata": {},
   "source": [
    "## Problem 3: Compare clusterings using the Rand index"
   ]
  },
  {
   "cell_type": "markdown",
   "metadata": {},
   "source": [
    "In some scenarios, you may have gold-standard class labels available for at least a subset of your documents. In these cases you can compute the **Rand index** of a clustering, and use this measure to compare the quality of different clusterings.\n",
    "\n",
    "To compute the Rand index, we view a clustering as a binary classifier on (unordered) pairs of documents. The classifier predicts &lsquo;positive&rsquo; if and only if the two documents belong to the same cluster. The (non-normalized) Rand index of the clustering is the accuracy of this classifier relative to a reference in which a document pair belongs to the &lsquo;positive&rsquo; class if and only if the two documents in the pair have the same gold-standard class label.\n",
    "\n",
    "Compare clusterings with $k \\in \\{1,3,5,7\\}$ clusters. As your evaluation data, use the first 500 documents from the original data set along with their gold-standard categories (from the `category` column). What do you observe? How do you interpret your observations?"
   ]
  },
  {
   "cell_type": "code",
   "execution_count": 86,
   "metadata": {},
   "outputs": [],
   "source": [
    "from sklearn.metrics.cluster import adjusted_rand_score"
   ]
  },
  {
   "cell_type": "code",
   "execution_count": 104,
   "metadata": {},
   "outputs": [],
   "source": [
    "# TODO: Enter code here to compute the Rand indices for the two clusterings\n",
    "score=[]\n",
    "k_s = (1,3,5,7)\n",
    "for i in k_s:\n",
    "    k = i\n",
    "    kmeans = KMeans(n_clusters=k, n_init=2).fit(reviews)\n",
    "    score.append(adjusted_rand_score(kmeans.predict(reviews[0:500]), df['category'][0:500]))\n",
    "\n"
   ]
  },
  {
   "cell_type": "code",
   "execution_count": 105,
   "metadata": {},
   "outputs": [
    {
     "name": "stdout",
     "output_type": "stream",
     "text": [
      "k = 1  has 0.0\n",
      "k = 3  has 0.08117712925722925\n",
      "k = 5  has 0.2441896397702767\n",
      "k = 7  has 0.3046787452549842\n"
     ]
    }
   ],
   "source": [
    "for i in range(4):\n",
    "    print('k =', k_s[i], ' has', score[i])"
   ]
  },
  {
   "cell_type": "code",
   "execution_count": 106,
   "metadata": {},
   "outputs": [
    {
     "data": {
      "text/plain": [
       "['books', 'camera', 'dvd', 'health', 'music', 'software']"
      ]
     },
     "execution_count": 106,
     "metadata": {},
     "output_type": "execute_result"
    }
   ],
   "source": [
    "sorted(df['category'].unique())"
   ]
  },
  {
   "cell_type": "markdown",
   "metadata": {},
   "source": [
    "*TODO: Insert your discussion of your results here*\n",
    "\n",
    "In this case the number of different categories in the gold-standard are Six clusters. In the k-mean, Seven clusters performes best in terms of rand index. That make some sense because if we force two categories togheter, rand index will perform worse due to the clusterings unabillity to seperate two documents that do not belong to the same cluster. On the other hand, if we have to many clusters, we risk to force k-means to split two documents that should belong ot the same cluster. Due to the hard cluster criteria. Even if we would use the the same ammont of clusters as the number of categorys, we do not garantee the best score."
   ]
  },
  {
   "cell_type": "markdown",
   "metadata": {},
   "source": [
    "## Topic modelling data set"
   ]
  },
  {
   "cell_type": "markdown",
   "metadata": {},
   "source": [
    "The data set for the topic modelling part of this lab is the collection of all [State of the Union](https://en.wikipedia.org/wiki/State_of_the_Union) addresses from the years 1975–2000. These speeches come as a single text file with one sentence per line. The following code cell prints the first 5 lines from the data file:"
   ]
  },
  {
   "cell_type": "code",
   "execution_count": 1,
   "metadata": {},
   "outputs": [
    {
     "name": "stdout",
     "output_type": "stream",
     "text": [
      "mr speaker mr vice president members of the 94th congress and distinguished guests\n",
      "\n",
      "twenty six years ago a freshman congressman a young fellow with lots of idealism who was out to change the world stood before sam rayburn in the well of the house and solemnly swore to the same oath that all of you took yesterday an unforgettable experience and i congratulate you all\n",
      "\n",
      "two days later that same freshman stood at the back of this great chamber over there someplace as president truman all charged up by his single handed election victory reported as the constitution requires on the state of the union\n",
      "\n",
      "when the bipartisan applause stopped president truman said i am happy to report to this 81st congress that the state of the union is good our nation is better able than ever before to meet the needs of the american people and to give them their fair chance in the pursuit of happiness it is foremost among the nations of the world in the search for peace\n",
      "\n",
      "today that freshman member from michigan stands where mr truman stood and i must say to you that the state of the union is not good\n",
      "\n",
      "millions of americans are out of work\n",
      "\n"
     ]
    }
   ],
   "source": [
    "with open('sotu_1975_2000.txt') as source:\n",
    "    for i, line in enumerate(source):\n",
    "        print(line.rstrip())\n",
    "        print()\n",
    "        if i >= 5:\n",
    "            break"
   ]
  },
  {
   "cell_type": "markdown",
   "metadata": {},
   "source": [
    "Take a few minutes to think about what topics you would expect in this data set.\n",
    "\n",
    "The topics is expected to capture different political questions that has been discussed frekvently during the time 1975 and 200."
   ]
  },
  {
   "cell_type": "markdown",
   "metadata": {},
   "source": [
    "## Problem 4: Train a topic model"
   ]
  },
  {
   "cell_type": "markdown",
   "metadata": {},
   "source": [
    "Your first task on the topic modelling data is to train an LDA model. For this task you will be using [spaCy](https://spacy.io/) and the [gensim](https://radimrehurek.com/gensim/) topic modelling library.\n",
    "\n",
    "Start by preprocessing the data using spaCy. Given that the data set for this problem is rather small, you do not have to exclude any components from the standard pipeline. Filter out stop words, non-alphabetic tokens, and tokens less than 3 characters in length. Store the documents as a nested list where the first level of nesting corresponds to the sentences and the second level corresponds to the tokens in each sentence."
   ]
  },
  {
   "cell_type": "code",
   "execution_count": 1,
   "metadata": {},
   "outputs": [],
   "source": [
    "import spacy\n",
    "\n",
    "nlp = spacy.load(\"en_core_web_sm\", disable=[\"tagger\", \"parser\", \"ner\", \"textcat\"])"
   ]
  },
  {
   "cell_type": "code",
   "execution_count": 2,
   "metadata": {},
   "outputs": [],
   "source": [
    "# TODO: Replace the following lines with your own code for preprocessing the documents\n",
    "with open('sotu_1975_2000.txt') as source:\n",
    "    documents = [line.split() for line in source]\n",
    "    \n",
    "\n",
    "all_tokens = []\n",
    "sent_tok = []\n",
    "for i in range(len(documents)):\n",
    "    lines = []\n",
    "    for word in documents[i]:\n",
    "        token = nlp(word)[0]\n",
    "        \n",
    "        #Stop word removal\n",
    "        if token.is_stop == False and token.is_alpha == True and len(token.text)>2 :\n",
    "            lines.append(token.text) #.lemma_ would be Lemmatization of the words\n",
    "    all_tokens.append(lines)\n",
    "    sent_tok.append([' '.join(documents[i]),lines])\n",
    "\n",
    "documents = all_tokens"
   ]
  },
  {
   "cell_type": "code",
   "execution_count": 3,
   "metadata": {},
   "outputs": [
    {
     "data": {
      "text/plain": [
       "'first we must reduce oil imports by 1 million barrels per day by the end of this year and by 2 million barrels per day by the end of 1977'"
      ]
     },
     "execution_count": 3,
     "metadata": {},
     "output_type": "execute_result"
    }
   ],
   "source": [
    "sent_tok[42][0]"
   ]
  },
  {
   "cell_type": "markdown",
   "metadata": {},
   "source": [
    "Test your preprocessing by running the following cell:"
   ]
  },
  {
   "cell_type": "code",
   "execution_count": 4,
   "metadata": {},
   "outputs": [
    {
     "data": {
      "text/plain": [
       "'reduce oil imports million barrels day end year million barrels day end'"
      ]
     },
     "execution_count": 4,
     "metadata": {},
     "output_type": "execute_result"
    }
   ],
   "source": [
    "#' '.join(documents[42])\n",
    "' '.join(sent_tok[42][1])"
   ]
  },
  {
   "cell_type": "markdown",
   "metadata": {},
   "source": [
    "You should get the following output:"
   ]
  },
  {
   "cell_type": "raw",
   "metadata": {},
   "source": [
    "'reduce oil imports million barrels day end year million barrels day end'"
   ]
  },
  {
   "cell_type": "markdown",
   "metadata": {},
   "source": [
    "Once you have the list of documents, skim the section [Pre-process and vectorize the documents](https://radimrehurek.com/gensim/auto_examples/tutorials/run_lda.html#pre-process-and-vectorize-the-documents) of the gensim documentation to learn how to create the dictionary and the vectorized corpus representation required by gensim. (Note that you cannot use the standard scikit-learn pipeline in this case.) Then, write code to train an [LdaModel](https://radimrehurek.com/gensim/models/ldamodel.html) for $k=10$ topics, and using default values for all other parameters."
   ]
  },
  {
   "cell_type": "code",
   "execution_count": 22,
   "metadata": {},
   "outputs": [],
   "source": [
    "from gensim.corpora import Dictionary\n",
    "from gensim.models.ldamodel import LdaModel"
   ]
  },
  {
   "cell_type": "code",
   "execution_count": 36,
   "metadata": {},
   "outputs": [
    {
     "name": "stdout",
     "output_type": "stream",
     "text": [
      "Number of unique tokens: 8496\n",
      "Number of documents: 2898\n"
     ]
    }
   ],
   "source": [
    "# TODO: Enter code here to train an LDA model and store it in a variable `model`\n",
    "dictionary = Dictionary(documents)\n",
    "dictionary[0]\n",
    "corpus = [dictionary.doc2bow(doc) for doc in documents] # docs = [item[1] for item in sent_tok]\n",
    "\n",
    "print('Number of unique tokens: %d' % len(dictionary))\n",
    "print('Number of documents: %d' % len(corpus))"
   ]
  },
  {
   "cell_type": "code",
   "execution_count": 40,
   "metadata": {},
   "outputs": [],
   "source": [
    "model = LdaModel(corpus, num_topics=10, id2word = dictionary.id2token)"
   ]
  },
  {
   "cell_type": "markdown",
   "metadata": {},
   "source": [
    "Once you have a trained model, run the following cell to print the topics:"
   ]
  },
  {
   "cell_type": "code",
   "execution_count": 38,
   "metadata": {},
   "outputs": [
    {
     "data": {
      "text/plain": [
       "[(0,\n",
       "  '0.013*\"people\" + 0.011*\"know\" + 0.009*\"children\" + 0.008*\"work\" + 0.007*\"families\" + 0.007*\"american\" + 0.007*\"year\" + 0.006*\"tax\" + 0.006*\"america\" + 0.005*\"help\"'),\n",
       " (1,\n",
       "  '0.011*\"new\" + 0.008*\"people\" + 0.007*\"challenge\" + 0.006*\"american\" + 0.006*\"year\" + 0.006*\"world\" + 0.006*\"time\" + 0.006*\"congress\" + 0.006*\"children\" + 0.005*\"america\"'),\n",
       " (2,\n",
       "  '0.012*\"new\" + 0.010*\"america\" + 0.009*\"help\" + 0.009*\"world\" + 0.007*\"trade\" + 0.007*\"tonight\" + 0.006*\"grade\" + 0.005*\"know\" + 0.005*\"americans\" + 0.005*\"nation\"'),\n",
       " (3,\n",
       "  '0.008*\"economic\" + 0.007*\"america\" + 0.007*\"new\" + 0.007*\"teen\" + 0.006*\"years\" + 0.006*\"congress\" + 0.005*\"year\" + 0.005*\"rural\" + 0.005*\"communities\" + 0.005*\"help\"'),\n",
       " (4,\n",
       "  '0.012*\"government\" + 0.012*\"people\" + 0.009*\"year\" + 0.007*\"new\" + 0.007*\"let\" + 0.007*\"health\" + 0.007*\"work\" + 0.007*\"americans\" + 0.007*\"children\" + 0.006*\"million\"'),\n",
       " (5,\n",
       "  '0.009*\"congress\" + 0.009*\"way\" + 0.007*\"america\" + 0.006*\"crime\" + 0.006*\"year\" + 0.005*\"let\" + 0.005*\"row\" + 0.005*\"children\" + 0.005*\"northern\" + 0.005*\"tax\"'),\n",
       " (6,\n",
       "  '0.016*\"new\" + 0.013*\"america\" + 0.010*\"work\" + 0.008*\"congress\" + 0.008*\"world\" + 0.008*\"children\" + 0.007*\"help\" + 0.007*\"people\" + 0.007*\"college\" + 0.007*\"care\"'),\n",
       " (7,\n",
       "  '0.015*\"america\" + 0.012*\"people\" + 0.009*\"year\" + 0.008*\"world\" + 0.008*\"work\" + 0.008*\"american\" + 0.007*\"children\" + 0.007*\"peace\" + 0.006*\"thank\" + 0.006*\"welfare\"'),\n",
       " (8,\n",
       "  '0.014*\"years\" + 0.011*\"new\" + 0.011*\"crime\" + 0.008*\"americans\" + 0.007*\"good\" + 0.007*\"immigrants\" + 0.007*\"america\" + 0.006*\"country\" + 0.006*\"people\" + 0.006*\"government\"'),\n",
       " (9,\n",
       "  '0.014*\"years\" + 0.011*\"people\" + 0.011*\"america\" + 0.008*\"budget\" + 0.008*\"year\" + 0.008*\"work\" + 0.008*\"americans\" + 0.007*\"new\" + 0.007*\"american\" + 0.006*\"congress\"')]"
      ]
     },
     "execution_count": 38,
     "metadata": {},
     "output_type": "execute_result"
    }
   ],
   "source": [
    "model.print_topics()"
   ]
  },
  {
   "cell_type": "markdown",
   "metadata": {},
   "source": [
    "Inspect the topics. Can you &lsquo;label&rsquo; each topic with a short description of what it is about? Do the topics match your expectations? Summarize your discussion in a short text."
   ]
  },
  {
   "cell_type": "markdown",
   "metadata": {},
   "source": [
    "*TODO: Insert your discussion of the topics here*\n",
    "\n",
    "We could reason to a lable to all of the topics, although some of them seem quite gennerall (eg. communities). All topics seem to tie to political questions (eg. peace or tax). Some of the topics are very similar to eachoter and some workds appear in manny of the topics. "
   ]
  },
  {
   "cell_type": "markdown",
   "metadata": {},
   "source": [
    "## Problem 5: Monitor a topic model for convergence"
   ]
  },
  {
   "cell_type": "markdown",
   "metadata": {},
   "source": [
    "When learning an LDA model, it is important to make sure that the training algorithm has converged to a stable posterior distribution. One way to do so is to plot, after each training epochs (or &lsquo;pass&rsquo;, in gensim parlance) the log likelihood of the training data under the posterior. Your last task in this lab is to create such a plot and, based on this, to suggest an appropriate number of epochs.\n",
    "\n",
    "To collect information about the posterior likelihood after each pass, we need to enable the logging facilities of gensim. Once this is done, gensim will add various diagnostics to a log file `gensim.log`."
   ]
  },
  {
   "cell_type": "code",
   "execution_count": 58,
   "metadata": {},
   "outputs": [],
   "source": [
    "import logging\n",
    "\n",
    "logging.basicConfig(filename='gensim.log', format='%(asctime)s:%(levelname)s:%(message)s', level=logging.INFO)"
   ]
  },
  {
   "cell_type": "markdown",
   "metadata": {},
   "source": [
    "The following function will parse the generated logfile and return the list of log likelihoods."
   ]
  },
  {
   "cell_type": "code",
   "execution_count": 59,
   "metadata": {},
   "outputs": [],
   "source": [
    "import re\n",
    "\n",
    "def parse_logfile():\n",
    "    matcher = re.compile('(-*\\d+\\.\\d+) per-word .* (\\d+\\.\\d+) perplexity')\n",
    "    likelihoods = []\n",
    "    with open('gensim.log') as source:\n",
    "        for line in source:\n",
    "            match = matcher.search(line)\n",
    "            if match:\n",
    "                likelihoods.append(float(match.group(1)))\n",
    "    return likelihoods"
   ]
  },
  {
   "cell_type": "markdown",
   "metadata": {},
   "source": [
    "Your task now is to re-train your LDA model for 50&nbsp;passes, retrieve the list of log likelihoods, and create a plot from this data."
   ]
  },
  {
   "cell_type": "code",
   "execution_count": 60,
   "metadata": {},
   "outputs": [],
   "source": [
    "# TODO: Enter code here to generate the convergence plot\n",
    "model = LdaModel(corpus, num_topics=10, id2word = dictionary.id2token, passes = 50)"
   ]
  },
  {
   "cell_type": "code",
   "execution_count": 61,
   "metadata": {},
   "outputs": [],
   "source": [
    "import matplotlib.pyplot as plt"
   ]
  },
  {
   "cell_type": "code",
   "execution_count": 63,
   "metadata": {},
   "outputs": [
    {
     "data": {
      "text/plain": [
       "[<matplotlib.lines.Line2D at 0x7fe18303e970>]"
      ]
     },
     "execution_count": 63,
     "metadata": {},
     "output_type": "execute_result"
    },
    {
     "data": {
      "image/png": "[encoded data removed]",
      "text/plain": [
       "<Figure size 432x288 with 1 Axes>"
      ]
     },
     "metadata": {
      "needs_background": "light"
     },
     "output_type": "display_data"
    }
   ],
   "source": [
    "\n",
    "plt.plot(parse_logfile()[0:50])"
   ]
  },
  {
   "cell_type": "markdown",
   "metadata": {},
   "source": [
    "How do you interpret your plot? Based on the plot, what would be a reasonable choice for the number of passes? Retrain your LDA model with that number and re-inspect the topics it finds. Do you consider the new topics to be &lsquo;better&rsquo; than the ones that you got from the 1-pass model in Problem&nbsp;5?"
   ]
  },
  {
   "cell_type": "markdown",
   "metadata": {},
   "source": [
    "*TODO: Insert your discussion of these questions here*\n",
    "\n",
    "The plot has pass number on x-axis and log likelihood on y-axis. There is a traid off between maximizing the log likelihood and minimizing the computation power. Based on the elbow point you should use 7-10 passes."
   ]
  },
  {
   "cell_type": "code",
   "execution_count": 65,
   "metadata": {},
   "outputs": [],
   "source": [
    "# Retraining lda w 10 passes.\n",
    "model = LdaModel(corpus, num_topics=10, id2word = dictionary.id2token, passes = 10)"
   ]
  },
  {
   "cell_type": "code",
   "execution_count": 67,
   "metadata": {},
   "outputs": [
    {
     "data": {
      "text/plain": [
       "[(0,\n",
       "  '0.017*\"schools\" + 0.011*\"school\" + 0.010*\"congress\" + 0.010*\"president\" + 0.010*\"teachers\" + 0.009*\"children\" + 0.008*\"standards\" + 0.007*\"vice\" + 0.007*\"china\" + 0.006*\"challenge\"'),\n",
       " (1,\n",
       "  '0.010*\"god\" + 0.008*\"water\" + 0.008*\"thank\" + 0.008*\"federal\" + 0.008*\"clean\" + 0.008*\"government\" + 0.007*\"immigrants\" + 0.007*\"nation\" + 0.007*\"bless\" + 0.007*\"air\"'),\n",
       " (2,\n",
       "  '0.018*\"work\" + 0.017*\"people\" + 0.016*\"america\" + 0.015*\"new\" + 0.013*\"children\" + 0.011*\"help\" + 0.010*\"americans\" + 0.008*\"let\" + 0.007*\"child\" + 0.007*\"congress\"'),\n",
       " (3,\n",
       "  '0.011*\"peace\" + 0.010*\"world\" + 0.010*\"government\" + 0.008*\"america\" + 0.007*\"new\" + 0.007*\"soviet\" + 0.006*\"military\" + 0.006*\"welfare\" + 0.006*\"states\" + 0.006*\"nation\"'),\n",
       " (4,\n",
       "  '0.014*\"security\" + 0.012*\"social\" + 0.010*\"year\" + 0.009*\"house\" + 0.009*\"american\" + 0.008*\"congress\" + 0.008*\"years\" + 0.007*\"people\" + 0.006*\"tonight\" + 0.005*\"nuclear\"'),\n",
       " (5,\n",
       "  '0.013*\"people\" + 0.012*\"country\" + 0.012*\"state\" + 0.012*\"union\" + 0.012*\"world\" + 0.011*\"america\" + 0.010*\"nation\" + 0.009*\"american\" + 0.009*\"time\" + 0.009*\"tonight\"'),\n",
       " (6,\n",
       "  '0.012*\"world\" + 0.010*\"economic\" + 0.010*\"new\" + 0.010*\"years\" + 0.009*\"energy\" + 0.008*\"trade\" + 0.007*\"economy\" + 0.007*\"policy\" + 0.007*\"year\" + 0.007*\"growth\"'),\n",
       " (7,\n",
       "  '0.020*\"years\" + 0.018*\"tax\" + 0.018*\"budget\" + 0.016*\"government\" + 0.015*\"year\" + 0.014*\"federal\" + 0.013*\"cut\" + 0.011*\"percent\" + 0.011*\"spending\" + 0.011*\"programs\"'),\n",
       " (8,\n",
       "  '0.019*\"america\" + 0.017*\"crime\" + 0.017*\"freedom\" + 0.012*\"people\" + 0.010*\"democracy\" + 0.009*\"world\" + 0.009*\"years\" + 0.006*\"smaller\" + 0.006*\"teen\" + 0.006*\"violent\"'),\n",
       " (9,\n",
       "  '0.039*\"health\" + 0.023*\"care\" + 0.016*\"insurance\" + 0.009*\"science\" + 0.009*\"american\" + 0.008*\"wage\" + 0.008*\"people\" + 0.007*\"coverage\" + 0.007*\"children\" + 0.007*\"americans\"')]"
      ]
     },
     "execution_count": 67,
     "metadata": {},
     "output_type": "execute_result"
    }
   ],
   "source": [
    "model.print_topics()"
   ]
  },
  {
   "cell_type": "markdown",
   "metadata": {},
   "source": [
    "The new topics seem 'better'. Because the topics is easier to interpret and the words describing each topic does not overlap as much whith this re-trained model."
   ]
  },
  {
   "cell_type": "markdown",
   "metadata": {},
   "source": [
    "<div class=\"alert alert-info\">\n",
    "    Please read the section ‘General information’ on the ‘Labs’ page of the course website before submitting this notebook!\n",
    "</div>"
   ]
  }
 ],
 "metadata": {
  "kernelspec": {
   "display_name": "Python 3",
   "language": "python",
   "name": "python3"
  },
  "language_info": {
   "codemirror_mode": {
    "name": "ipython",
    "version": 3
   },
   "file_extension": ".py",
   "mimetype": "text/x-python",
   "name": "python",
   "nbconvert_exporter": "python",
   "pygments_lexer": "ipython3",
   "version": "3.8.3"
  }
 },
 "nbformat": 4,
 "nbformat_minor": 2
}
